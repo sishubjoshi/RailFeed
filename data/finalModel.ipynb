{
 "cells": [
  {
   "cell_type": "code",
   "execution_count": 34,
   "metadata": {},
   "outputs": [],
   "source": [
    "import pandas as pd\n",
    "import matplotlib.pyplot as plt"
   ]
  },
  {
   "cell_type": "code",
   "execution_count": 22,
   "metadata": {},
   "outputs": [],
   "source": [
    "df = pd.read_csv(\"../data/cleaned_data.csv\")"
   ]
  },
  {
   "cell_type": "code",
   "execution_count": 23,
   "metadata": {},
   "outputs": [
    {
     "data": {
      "text/html": [
       "<div>\n",
       "<style scoped>\n",
       "    .dataframe tbody tr th:only-of-type {\n",
       "        vertical-align: middle;\n",
       "    }\n",
       "\n",
       "    .dataframe tbody tr th {\n",
       "        vertical-align: top;\n",
       "    }\n",
       "\n",
       "    .dataframe thead th {\n",
       "        text-align: right;\n",
       "    }\n",
       "</style>\n",
       "<table border=\"1\" class=\"dataframe\">\n",
       "  <thead>\n",
       "    <tr style=\"text-align: right;\">\n",
       "      <th></th>\n",
       "      <th>complaint</th>\n",
       "      <th>category</th>\n",
       "    </tr>\n",
       "  </thead>\n",
       "  <tbody>\n",
       "    <tr>\n",
       "      <th>0</th>\n",
       "      <td>Rly station gets bag scanner, still lacks adeq...</td>\n",
       "      <td>security</td>\n",
       "    </tr>\n",
       "    <tr>\n",
       "      <th>1</th>\n",
       "      <td>The sensitivity of  towards the  corridor betw...</td>\n",
       "      <td>journey</td>\n",
       "    </tr>\n",
       "    <tr>\n",
       "      <th>2</th>\n",
       "      <td>If you have  Loyalty points then you can easil...</td>\n",
       "      <td>journey</td>\n",
       "    </tr>\n",
       "    <tr>\n",
       "      <th>3</th>\n",
       "      <td>Dear sir, I am travelling to ghazipur by 22434...</td>\n",
       "      <td>journey</td>\n",
       "    </tr>\n",
       "    <tr>\n",
       "      <th>4</th>\n",
       "      <td>The sensitivity of  towards the  corridor betw...</td>\n",
       "      <td>journey</td>\n",
       "    </tr>\n",
       "  </tbody>\n",
       "</table>\n",
       "</div>"
      ],
      "text/plain": [
       "                                           complaint  category\n",
       "0  Rly station gets bag scanner, still lacks adeq...  security\n",
       "1  The sensitivity of  towards the  corridor betw...   journey\n",
       "2  If you have  Loyalty points then you can easil...   journey\n",
       "3  Dear sir, I am travelling to ghazipur by 22434...   journey\n",
       "4  The sensitivity of  towards the  corridor betw...   journey"
      ]
     },
     "execution_count": 23,
     "metadata": {},
     "output_type": "execute_result"
    }
   ],
   "source": [
    "df.head()"
   ]
  },
  {
   "cell_type": "code",
   "execution_count": 24,
   "metadata": {},
   "outputs": [
    {
     "data": {
      "text/plain": [
       "(562, 2)"
      ]
     },
     "execution_count": 24,
     "metadata": {},
     "output_type": "execute_result"
    }
   ],
   "source": [
    "df.shape"
   ]
  },
  {
   "cell_type": "code",
   "execution_count": 25,
   "metadata": {},
   "outputs": [],
   "source": [
    "df['category_id'] = df['category'].factorize()[0]"
   ]
  },
  {
   "cell_type": "code",
   "execution_count": 26,
   "metadata": {},
   "outputs": [
    {
     "data": {
      "text/html": [
       "<div>\n",
       "<style scoped>\n",
       "    .dataframe tbody tr th:only-of-type {\n",
       "        vertical-align: middle;\n",
       "    }\n",
       "\n",
       "    .dataframe tbody tr th {\n",
       "        vertical-align: top;\n",
       "    }\n",
       "\n",
       "    .dataframe thead th {\n",
       "        text-align: right;\n",
       "    }\n",
       "</style>\n",
       "<table border=\"1\" class=\"dataframe\">\n",
       "  <thead>\n",
       "    <tr style=\"text-align: right;\">\n",
       "      <th></th>\n",
       "      <th>complaint</th>\n",
       "      <th>category</th>\n",
       "      <th>category_id</th>\n",
       "    </tr>\n",
       "  </thead>\n",
       "  <tbody>\n",
       "    <tr>\n",
       "      <th>552</th>\n",
       "      <td>bGenerator Van of GariRath is apparently makin...</td>\n",
       "      <td>digital</td>\n",
       "      <td>3</td>\n",
       "    </tr>\n",
       "    <tr>\n",
       "      <th>553</th>\n",
       "      <td>Train no. 12224 Duronto Express coach B6. Air ...</td>\n",
       "      <td>digital</td>\n",
       "      <td>3</td>\n",
       "    </tr>\n",
       "    <tr>\n",
       "      <th>554</th>\n",
       "      <td>Vlog On Journey From Delhi To Mumbai By  Train...</td>\n",
       "      <td>journey</td>\n",
       "      <td>1</td>\n",
       "    </tr>\n",
       "    <tr>\n",
       "      <th>555</th>\n",
       "      <td>ko sudhar to payi nhi    me fir se  chahiye.</td>\n",
       "      <td>others</td>\n",
       "      <td>4</td>\n",
       "    </tr>\n",
       "    <tr>\n",
       "      <th>556</th>\n",
       "      <td>Did you know,  takes 25 crore passengers daily...</td>\n",
       "      <td>others</td>\n",
       "      <td>4</td>\n",
       "    </tr>\n",
       "    <tr>\n",
       "      <th>557</th>\n",
       "      <td>Travelling by train no. 12701 to Hyderabad. Th...</td>\n",
       "      <td>journey</td>\n",
       "      <td>1</td>\n",
       "    </tr>\n",
       "    <tr>\n",
       "      <th>558</th>\n",
       "      <td>Targets for 2019-20 set at 10,319 km on</td>\n",
       "      <td>others</td>\n",
       "      <td>4</td>\n",
       "    </tr>\n",
       "    <tr>\n",
       "      <th>559</th>\n",
       "      <td>The haunting beauty of a solitary rail line in...</td>\n",
       "      <td>others</td>\n",
       "      <td>4</td>\n",
       "    </tr>\n",
       "    <tr>\n",
       "      <th>560</th>\n",
       "      <td>I am in 14055 Brahmputra Express. PNR No. 6527...</td>\n",
       "      <td>clean</td>\n",
       "      <td>2</td>\n",
       "    </tr>\n",
       "    <tr>\n",
       "      <th>561</th>\n",
       "      <td>PNR 8717284054 pehle bole hotte toh pillow sat...</td>\n",
       "      <td>health</td>\n",
       "      <td>5</td>\n",
       "    </tr>\n",
       "  </tbody>\n",
       "</table>\n",
       "</div>"
      ],
      "text/plain": [
       "                                             complaint category  category_id\n",
       "552  bGenerator Van of GariRath is apparently makin...  digital            3\n",
       "553  Train no. 12224 Duronto Express coach B6. Air ...  digital            3\n",
       "554  Vlog On Journey From Delhi To Mumbai By  Train...  journey            1\n",
       "555      ko sudhar to payi nhi    me fir se  chahiye.    others            4\n",
       "556  Did you know,  takes 25 crore passengers daily...   others            4\n",
       "557  Travelling by train no. 12701 to Hyderabad. Th...  journey            1\n",
       "558         Targets for 2019-20 set at 10,319 km on      others            4\n",
       "559  The haunting beauty of a solitary rail line in...   others            4\n",
       "560  I am in 14055 Brahmputra Express. PNR No. 6527...    clean            2\n",
       "561  PNR 8717284054 pehle bole hotte toh pillow sat...   health            5"
      ]
     },
     "execution_count": 26,
     "metadata": {},
     "output_type": "execute_result"
    }
   ],
   "source": [
    "df.tail(10)"
   ]
  },
  {
   "cell_type": "code",
   "execution_count": 27,
   "metadata": {},
   "outputs": [],
   "source": [
    "cat_id_df = df[[\"category\", \"category_id\"]].drop_duplicates().sort_values('category_id')"
   ]
  },
  {
   "cell_type": "code",
   "execution_count": 28,
   "metadata": {},
   "outputs": [],
   "source": [
    "cat_to_id = dict(cat_id_df.values)"
   ]
  },
  {
   "cell_type": "code",
   "execution_count": 29,
   "metadata": {},
   "outputs": [
    {
     "data": {
      "text/html": [
       "<div>\n",
       "<style scoped>\n",
       "    .dataframe tbody tr th:only-of-type {\n",
       "        vertical-align: middle;\n",
       "    }\n",
       "\n",
       "    .dataframe tbody tr th {\n",
       "        vertical-align: top;\n",
       "    }\n",
       "\n",
       "    .dataframe thead th {\n",
       "        text-align: right;\n",
       "    }\n",
       "</style>\n",
       "<table border=\"1\" class=\"dataframe\">\n",
       "  <thead>\n",
       "    <tr style=\"text-align: right;\">\n",
       "      <th></th>\n",
       "      <th>category</th>\n",
       "      <th>category_id</th>\n",
       "    </tr>\n",
       "  </thead>\n",
       "  <tbody>\n",
       "    <tr>\n",
       "      <th>0</th>\n",
       "      <td>security</td>\n",
       "      <td>0</td>\n",
       "    </tr>\n",
       "    <tr>\n",
       "      <th>1</th>\n",
       "      <td>journey</td>\n",
       "      <td>1</td>\n",
       "    </tr>\n",
       "    <tr>\n",
       "      <th>6</th>\n",
       "      <td>clean</td>\n",
       "      <td>2</td>\n",
       "    </tr>\n",
       "    <tr>\n",
       "      <th>9</th>\n",
       "      <td>digital</td>\n",
       "      <td>3</td>\n",
       "    </tr>\n",
       "    <tr>\n",
       "      <th>13</th>\n",
       "      <td>others</td>\n",
       "      <td>4</td>\n",
       "    </tr>\n",
       "    <tr>\n",
       "      <th>36</th>\n",
       "      <td>health</td>\n",
       "      <td>5</td>\n",
       "    </tr>\n",
       "    <tr>\n",
       "      <th>37</th>\n",
       "      <td>food</td>\n",
       "      <td>6</td>\n",
       "    </tr>\n",
       "  </tbody>\n",
       "</table>\n",
       "</div>"
      ],
      "text/plain": [
       "    category  category_id\n",
       "0   security            0\n",
       "1    journey            1\n",
       "6      clean            2\n",
       "9    digital            3\n",
       "13    others            4\n",
       "36    health            5\n",
       "37      food            6"
      ]
     },
     "execution_count": 29,
     "metadata": {},
     "output_type": "execute_result"
    }
   ],
   "source": [
    "cat_id_df"
   ]
  },
  {
   "cell_type": "code",
   "execution_count": 30,
   "metadata": {},
   "outputs": [
    {
     "data": {
      "text/plain": [
       "{'security': 0,\n",
       " 'journey': 1,\n",
       " 'clean': 2,\n",
       " 'digital': 3,\n",
       " 'others': 4,\n",
       " 'health': 5,\n",
       " 'food': 6}"
      ]
     },
     "execution_count": 30,
     "metadata": {},
     "output_type": "execute_result"
    }
   ],
   "source": [
    "cat_to_id"
   ]
  },
  {
   "cell_type": "code",
   "execution_count": 31,
   "metadata": {},
   "outputs": [],
   "source": [
    "id_to_cat = dict(cat_id_df[['category_id','category']].values)"
   ]
  },
  {
   "cell_type": "code",
   "execution_count": 32,
   "metadata": {},
   "outputs": [
    {
     "data": {
      "text/plain": [
       "{0: 'security',\n",
       " 1: 'journey',\n",
       " 2: 'clean',\n",
       " 3: 'digital',\n",
       " 4: 'others',\n",
       " 5: 'health',\n",
       " 6: 'food'}"
      ]
     },
     "execution_count": 32,
     "metadata": {},
     "output_type": "execute_result"
    }
   ],
   "source": [
    "id_to_cat"
   ]
  },
  {
   "cell_type": "code",
   "execution_count": 33,
   "metadata": {},
   "outputs": [
    {
     "data": {
      "text/html": [
       "<div>\n",
       "<style scoped>\n",
       "    .dataframe tbody tr th:only-of-type {\n",
       "        vertical-align: middle;\n",
       "    }\n",
       "\n",
       "    .dataframe tbody tr th {\n",
       "        vertical-align: top;\n",
       "    }\n",
       "\n",
       "    .dataframe thead th {\n",
       "        text-align: right;\n",
       "    }\n",
       "</style>\n",
       "<table border=\"1\" class=\"dataframe\">\n",
       "  <thead>\n",
       "    <tr style=\"text-align: right;\">\n",
       "      <th></th>\n",
       "      <th>complaint</th>\n",
       "      <th>category</th>\n",
       "      <th>category_id</th>\n",
       "    </tr>\n",
       "  </thead>\n",
       "  <tbody>\n",
       "    <tr>\n",
       "      <th>0</th>\n",
       "      <td>Rly station gets bag scanner, still lacks adeq...</td>\n",
       "      <td>security</td>\n",
       "      <td>0</td>\n",
       "    </tr>\n",
       "    <tr>\n",
       "      <th>1</th>\n",
       "      <td>The sensitivity of  towards the  corridor betw...</td>\n",
       "      <td>journey</td>\n",
       "      <td>1</td>\n",
       "    </tr>\n",
       "    <tr>\n",
       "      <th>2</th>\n",
       "      <td>If you have  Loyalty points then you can easil...</td>\n",
       "      <td>journey</td>\n",
       "      <td>1</td>\n",
       "    </tr>\n",
       "    <tr>\n",
       "      <th>3</th>\n",
       "      <td>Dear sir, I am travelling to ghazipur by 22434...</td>\n",
       "      <td>journey</td>\n",
       "      <td>1</td>\n",
       "    </tr>\n",
       "    <tr>\n",
       "      <th>4</th>\n",
       "      <td>The sensitivity of  towards the  corridor betw...</td>\n",
       "      <td>journey</td>\n",
       "      <td>1</td>\n",
       "    </tr>\n",
       "  </tbody>\n",
       "</table>\n",
       "</div>"
      ],
      "text/plain": [
       "                                           complaint  category  category_id\n",
       "0  Rly station gets bag scanner, still lacks adeq...  security            0\n",
       "1  The sensitivity of  towards the  corridor betw...   journey            1\n",
       "2  If you have  Loyalty points then you can easil...   journey            1\n",
       "3  Dear sir, I am travelling to ghazipur by 22434...   journey            1\n",
       "4  The sensitivity of  towards the  corridor betw...   journey            1"
      ]
     },
     "execution_count": 33,
     "metadata": {},
     "output_type": "execute_result"
    }
   ],
   "source": [
    "df.head()"
   ]
  },
  {
   "cell_type": "code",
   "execution_count": 35,
   "metadata": {},
   "outputs": [
    {
     "data": {
      "text/plain": [
       "<Figure size 576x432 with 0 Axes>"
      ]
     },
     "metadata": {},
     "output_type": "display_data"
    }
   ],
   "source": [
    "fig = plt.figure(figsize= (8,6))"
   ]
  },
  {
   "cell_type": "code",
   "execution_count": 37,
   "metadata": {},
   "outputs": [
    {
     "data": {
      "text/plain": [
       "<matplotlib.axes._subplots.AxesSubplot at 0x7f3351c242b0>"
      ]
     },
     "execution_count": 37,
     "metadata": {},
     "output_type": "execute_result"
    },
    {
     "data": {
      "image/png": "[encoded data removed]",
      "text/plain": [
       "<Figure size 432x288 with 1 Axes>"
      ]
     },
     "metadata": {
      "needs_background": "light"
     },
     "output_type": "display_data"
    }
   ],
   "source": [
    "df.groupby('category').complaint.count().plot.bar(ylim=0)"
   ]
  },
  {
   "cell_type": "code",
   "execution_count": 38,
   "metadata": {},
   "outputs": [],
   "source": [
    "from sklearn.feature_extraction.text import TfidfVectorizer"
   ]
  },
  {
   "cell_type": "code",
   "execution_count": 39,
   "metadata": {},
   "outputs": [],
   "source": [
    "tfidf = TfidfVectorizer(sublinear_tf= True, #use a logarithmic form for frequency\n",
    "                       min_df = 5, #minimum numbers of documents a word must be present in to be kept\n",
    "                       norm= 'l2', #ensure all our feature vectors have a euclidian norm of 1\n",
    "                       ngram_range= (1,2), #to indicate that we want to consider both unigrams and bigrams.\n",
    "                       stop_words ='english') #to remove all common pronouns to reduce the number of noisy features"
   ]
  },
  {
   "cell_type": "code",
   "execution_count": 40,
   "metadata": {},
   "outputs": [],
   "source": [
    "features = tfidf.fit_transform(df.complaint).toarray()"
   ]
  },
  {
   "cell_type": "code",
   "execution_count": 41,
   "metadata": {},
   "outputs": [
    {
     "data": {
      "text/plain": [
       "(562, 305)"
      ]
     },
     "execution_count": 41,
     "metadata": {},
     "output_type": "execute_result"
    }
   ],
   "source": [
    "labels = df.category_id\n",
    "features.shape"
   ]
  },
  {
   "cell_type": "code",
   "execution_count": 42,
   "metadata": {},
   "outputs": [],
   "source": [
    "from sklearn.model_selection import train_test_split"
   ]
  },
  {
   "cell_type": "code",
   "execution_count": 43,
   "metadata": {},
   "outputs": [],
   "source": [
    "X_train, X_test, y_train, y_test = train_test_split(df['complaint'], df['category'], random_state= 0)"
   ]
  },
  {
   "cell_type": "code",
   "execution_count": 44,
   "metadata": {},
   "outputs": [],
   "source": [
    "from sklearn.feature_extraction.text import CountVectorizer"
   ]
  },
  {
   "cell_type": "code",
   "execution_count": 45,
   "metadata": {},
   "outputs": [],
   "source": [
    "count_vect = CountVectorizer()"
   ]
  },
  {
   "cell_type": "code",
   "execution_count": 46,
   "metadata": {},
   "outputs": [],
   "source": [
    "from sklearn.feature_extraction.text import TfidfTransformer"
   ]
  },
  {
   "cell_type": "code",
   "execution_count": 47,
   "metadata": {},
   "outputs": [],
   "source": [
    "X_train_counts = count_vect.fit_transform(X_train)\n",
    "tfidf_transformer = TfidfTransformer()\n",
    "X_train_tfidf = tfidf_transformer.fit_transform(X_train_counts)"
   ]
  },
  {
   "cell_type": "code",
   "execution_count": 56,
   "metadata": {
    "scrolled": true
   },
   "outputs": [
    {
     "data": {
      "text/plain": [
       "225    Sahibabad railway station of NR (Northern Rail...\n",
       "428    There have been a huge discrepancy in recent A...\n",
       "137    Thank you issue solved in few minutes    thank...\n",
       "354    Trains between Bhopal(bpl) And Delhi(ndls) sta...\n",
       "7               cant be trusted in emergency situation. \n",
       "554    Vlog On Journey From Delhi To Mumbai By  Train...\n",
       "518    Microsoft Kaizala enables Indian Railways to c...\n",
       "190    Enjoy the best of captivating hill station in ...\n",
       "546    Diesel lobby reigns supreme and thus 100s of d...\n",
       "427    register its best safety figures in almost fou...\n",
       "101    Door is not properly closing in A1 in 12842 on...\n",
       "97     bAgain indian railway service... my wif travel...\n",
       "231    GHY-Okha Express decorated with voters awarene...\n",
       "153    ADORNED BY BETTA  A silent .. peaceful country...\n",
       "54     A 58-year-old widow of a railway employee in C...\n",
       "30     Worst maintenance of train coach no door lock ...\n",
       "560    I am in 14055 Brahmputra Express. PNR No. 6527...\n",
       "49     Illegal coal trafficking in passenger train      \n",
       "100    Shabti coming from Dheradoon hijacked by a cro...\n",
       "213    Financial Express: Don\\xe2\\x80\\x99t worry abou...\n",
       "261     Why  has installed cameras on the exterior of   \n",
       "526    here is a fantasy work dedicated to art studen...\n",
       "293    Thanks to our honourable prime minister  and  ...\n",
       "56     No doubt. Standard of has been increased and k...\n",
       "144                       Up on the hill! Picture by    \n",
       "60     Use Check Chart/ Vacancy section to check all ...\n",
       "6      Condition of train no. 12322, all coaches extr...\n",
       "8      Trains between Agra cantt(agc) And Jhansi(jhs)...\n",
       "540    13 Amazing Facts About  That You May Not Know ...\n",
       "380    traveling in train no 19663 indore to khajurah...\n",
       "                             ...                        \n",
       "28     Trains between Delhi(ndls) And Dehradun(ddn) s...\n",
       "183    We tried the new Vande Bhagat Express train in...\n",
       "459    CR: Several Doubling, Tripling Works to be Par...\n",
       "510    Train No.16532 GariNawaz. Does this run from K...\n",
       "151    I booked and canceled two tickets and still i ...\n",
       "244    Sahibabad railway station of NR (Northern Rail...\n",
       "265    bWhats the point in asking for seat  preferenc...\n",
       "288    RAC waiting ticket confirm hona ek IPL match j...\n",
       "423    Trains between Raipur(r) And Rajkot(rjt) stati...\n",
       "147    Tirupati Railway Station bags IGBC Gold Rating...\n",
       "177    Good news for Northeast! Brahmaputra Mail set ...\n",
       "99               Baruipara Local is a bustuerd local.   \n",
       "448    Beautiful Erode WDG 3a merrily chugging throug...\n",
       "431    The toilets are really unclean in  ALD DURANTO...\n",
       "115    RRALP Aptitude Test postponed: Railway Recruit...\n",
       "72     Unfortunate that such a well known media house...\n",
       "537    sir my family traveling with my family in trai...\n",
       "174    Trains between Chandrapur(bpq) And Mathura (mt...\n",
       "87     I am traveling from Delhi to Gorakhpur through...\n",
       "551    Okay. If there no staff present, these seats w...\n",
       "486            The poor functioning of the  under Modi. \n",
       "314    Excellent passengers\\xe2\\x80\\x99 executive lou...\n",
       "396    SCR set deadline to achieve 100% electrificati...\n",
       "472    But what about the railways ...? \\xe2\\x80\\x8bT...\n",
       "70     Use Check Chart/ Vacancy section to check all ...\n",
       "277    water is not available in S3 coach in  12295 S...\n",
       "9      Indian railways IRCTC website is the LEAST rel...\n",
       "359    bWhats the last time you had that rush of a fe...\n",
       "192    I am amazed by the cleanliness of  railway sta...\n",
       "559    The haunting beauty of a solitary rail line in...\n",
       "Name: complaint, Length: 421, dtype: object"
      ]
     },
     "execution_count": 56,
     "metadata": {},
     "output_type": "execute_result"
    }
   ],
   "source": [
    "X_train"
   ]
  },
  {
   "cell_type": "code",
   "execution_count": 48,
   "metadata": {},
   "outputs": [],
   "source": [
    "from sklearn.svm import LinearSVC\n",
    "clf = LinearSVC().fit(X_train_tfidf, y_train)"
   ]
  },
  {
   "cell_type": "code",
   "execution_count": 55,
   "metadata": {},
   "outputs": [
    {
     "name": "stdout",
     "output_type": "stream",
     "text": [
      "['digital']\n"
     ]
    }
   ],
   "source": [
    "print(clf.predict(count_vect.transform(['website is not working'])))"
   ]
  },
  {
   "cell_type": "code",
   "execution_count": 50,
   "metadata": {},
   "outputs": [],
   "source": [
    "y_pred = clf.predict(count_vect.transform(X_test))"
   ]
  },
  {
   "cell_type": "code",
   "execution_count": 51,
   "metadata": {},
   "outputs": [],
   "source": [
    "from sklearn import metrics"
   ]
  },
  {
   "cell_type": "code",
   "execution_count": 52,
   "metadata": {},
   "outputs": [
    {
     "name": "stdout",
     "output_type": "stream",
     "text": [
      "              precision    recall  f1-score   support\n",
      "\n",
      "    security       0.00      0.00      0.00         7\n",
      "     journey       0.55      1.00      0.71        41\n",
      "       clean       0.55      1.00      0.71        41\n",
      "     digital       0.55      1.00      0.71        41\n",
      "      others       0.55      1.00      0.71        41\n",
      "      health       0.55      1.00      0.71        41\n",
      "        food       0.33      0.50      0.40         4\n",
      "\n",
      "   micro avg       0.70      0.65      0.67     25183\n",
      "   macro avg       0.69      0.65      0.63     25183\n",
      "weighted avg       0.77      0.65      0.66     25183\n",
      "\n"
     ]
    },
    {
     "name": "stderr",
     "output_type": "stream",
     "text": [
      "/home/skj/anaconda3/lib/python3.7/site-packages/sklearn/metrics/classification.py:1537: UserWarning: labels size, 562, does not match size of target_names, 7\n",
      "  .format(len(labels), len(target_names))\n",
      "/home/skj/anaconda3/lib/python3.7/site-packages/sklearn/metrics/classification.py:1143: UndefinedMetricWarning: Precision and F-score are ill-defined and being set to 0.0 in labels with no predicted samples.\n",
      "  'precision', 'predicted', average, warn_for)\n"
     ]
    }
   ],
   "source": [
    "print(metrics.classification_report(y_test,y_pred, labels= df.category, target_names=df['category'].unique()))"
   ]
  },
  {
   "cell_type": "markdown",
   "metadata": {},
   "source": [
    "# Pickling ( classifier and vectorizer)"
   ]
  },
  {
   "cell_type": "code",
   "execution_count": 57,
   "metadata": {},
   "outputs": [],
   "source": [
    "import pickle as pkl"
   ]
  },
  {
   "cell_type": "code",
   "execution_count": 68,
   "metadata": {},
   "outputs": [],
   "source": [
    "f = open(\"classifier.pickle\", \"wb\")\n",
    "pkl.dump(clf,f)"
   ]
  },
  {
   "cell_type": "code",
   "execution_count": 72,
   "metadata": {},
   "outputs": [],
   "source": [
    "f.close()"
   ]
  },
  {
   "cell_type": "code",
   "execution_count": 71,
   "metadata": {},
   "outputs": [],
   "source": [
    "f = open(\"vectorizer.pickle\", \"wb\")\n",
    "pkl.dump(count_vect, f)"
   ]
  },
  {
   "cell_type": "code",
   "execution_count": 78,
   "metadata": {},
   "outputs": [],
   "source": [
    "ccl = pkl.load(open('vectorizer.pickle', 'rb'))"
   ]
  },
  {
   "cell_type": "code",
   "execution_count": 81,
   "metadata": {},
   "outputs": [
    {
     "name": "stdout",
     "output_type": "stream",
     "text": [
      "['others']\n"
     ]
    }
   ],
   "source": [
    "print(clf.predict(ccl.transform(['hello'])))"
   ]
  },
  {
   "cell_type": "code",
   "execution_count": 82,
   "metadata": {},
   "outputs": [
    {
     "data": {
      "text/plain": [
       "array(['digital'], dtype=object)"
      ]
     },
     "execution_count": 82,
     "metadata": {},
     "output_type": "execute_result"
    }
   ],
   "source": [
    "clf.predict(count_vect.transform(['website is not working']))"
   ]
  },
  {
   "cell_type": "code",
   "execution_count": null,
   "metadata": {},
   "outputs": [],
   "source": []
  }
 ],
 "metadata": {
  "kernelspec": {
   "display_name": "Python 3",
   "language": "python",
   "name": "python3"
  },
  "language_info": {
   "codemirror_mode": {
    "name": "ipython",
    "version": 3
   },
   "file_extension": ".py",
   "mimetype": "text/x-python",
   "name": "python",
   "nbconvert_exporter": "python",
   "pygments_lexer": "ipython3",
   "version": "3.7.1"
  }
 },
 "nbformat": 4,
 "nbformat_minor": 2
}
